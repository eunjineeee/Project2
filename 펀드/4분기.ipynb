{
 "cells": [
  {
   "cell_type": "code",
   "execution_count": null,
   "metadata": {},
   "outputs": [],
   "source": [
    "import pandas as pd"
   ]
  },
  {
   "attachments": {},
   "cell_type": "markdown",
   "metadata": {},
   "source": [
    "### 코스피 4분기(2011~2022)데이터 추출 및 결측치 대체 및 제거"
   ]
  },
  {
   "cell_type": "code",
   "execution_count": null,
   "metadata": {},
   "outputs": [],
   "source": [
    "df_1 = pd.read_csv('./펀드위험지수_4분기/코스피_연결_4분기.csv',encoding='euc-kr')\n",
    "df_2 = pd.read_csv('./펀드위험지수_4분기/코스피_연결_4분기_금융원가.csv',encoding='euc-kr')\n",
    "# \"회사명\", \"거래소코드\", \"회계년도\" 컬럼을 기준으로 두 데이터프레임 결합\n",
    "kospi_4_y = df_1.merge(df_2, on=['회사명', '거래소코드', '회계년도'], suffixes=('df_1', 'df_2'))\n",
    "kospi_4_y.columns"
   ]
  },
  {
   "cell_type": "code",
   "execution_count": null,
   "metadata": {},
   "outputs": [],
   "source": [
    "kospi_4_y.isnull().sum()"
   ]
  },
  {
   "cell_type": "code",
   "execution_count": null,
   "metadata": {},
   "outputs": [],
   "source": [
    "df_3 = pd.read_csv('./펀드위험지수_4분기/코스피_개별_4분기.csv',encoding='euc-kr')\n",
    "df_4 = pd.read_csv('./펀드위험지수_4분기/코스피_개별_4분기_금융원가1.csv',encoding='euc-kr')\n",
    "# \"회사명\", \"거래소코드\", \"회계년도\" 컬럼을 기준으로 두 데이터프레임 결합\n",
    "kospi_4_k = df_3.merge(df_4, on=['회사명', '거래소코드', '회계년도'], suffixes=('df_3', 'df_4'))\n",
    "kospi_4_k.columns"
   ]
  },
  {
   "cell_type": "code",
   "execution_count": null,
   "metadata": {},
   "outputs": [],
   "source": [
    "# 컬럼 이름 변경\n",
    "new_columns = ['회사명', '거래소코드', '회계년도', '자산(*)(요약)(IFRS연결)(백만원)',\n",
    "       '유동부채(*)(요약)(IFRS연결)(백만원)', '유동자산(*)(요약)(IFRS연결)(백만원)',\n",
    "       '부채(*)(요약)(IFRS연결)(백만원)', '자본(*)(요약)(IFRS연결)(백만원)',\n",
    "       '재고자산(요약)(IFRS연결)(백만원)', '당기순이익(총포괄손익)(요약)(IFRS연결)(백만원)',\n",
    "       '매출액(수익)(요약)(IFRS연결)(백만원)', '판매비와 관리비(물류원가 등 포함)(요약)(IFRS연결)(백만원)',\n",
    "       '매출원가(요약)(IFRS연결)(백만원)', '매입채무(IFRS연결)(천원)', '금융비용(IFRS연결)(천원)',\n",
    "       '금융비용(IFRS연결)(백만원)', '금융원가(요약)(IFRS연결)(백만원)']\n",
    "kospi_4_k.columns = new_columns"
   ]
  },
  {
   "cell_type": "code",
   "execution_count": null,
   "metadata": {},
   "outputs": [],
   "source": [
    "kospi_4_y.fillna(kospi_4_k, inplace=True)"
   ]
  },
  {
   "cell_type": "code",
   "execution_count": null,
   "metadata": {},
   "outputs": [],
   "source": [
    "kospi_4_y = kospi_4_y.drop(['금융비용(IFRS연결)(백만원)'],axis=1)\n",
    "kospi_4_y = kospi_4_y.drop(['금융비용(IFRS연결)(천원)'],axis=1)"
   ]
  },
  {
   "cell_type": "code",
   "execution_count": null,
   "metadata": {},
   "outputs": [],
   "source": [
    "kospi_4_y"
   ]
  },
  {
   "cell_type": "code",
   "execution_count": null,
   "metadata": {},
   "outputs": [],
   "source": [
    "kospi_4_y['매입채무(IFRS연결)(천원)'] = kospi_4_y['매입채무(IFRS연결)(천원)']/1000"
   ]
  },
  {
   "cell_type": "code",
   "execution_count": null,
   "metadata": {},
   "outputs": [],
   "source": [
    "new_columns = ['회사명', '거래소코드', '회계년도', '자산','유동부채', '유동자산','부채', '자본','재고자산', '당기순이익',\n",
    "       '매출액', '판매비와 관리비','매출원가', '매입채무','금융원가']\n",
    "kospi_4_y.columns = new_columns"
   ]
  },
  {
   "cell_type": "code",
   "execution_count": null,
   "metadata": {},
   "outputs": [],
   "source": [
    "# kospi_4_y.to_csv('코스피4분기.csv',index=False)"
   ]
  },
  {
   "attachments": {},
   "cell_type": "markdown",
   "metadata": {},
   "source": [
    "### 코스닥 4분기(2011~2022)데이터 추출 및 결측치 대체 및 제거"
   ]
  },
  {
   "cell_type": "code",
   "execution_count": null,
   "metadata": {},
   "outputs": [],
   "source": [
    "df_5 = pd.read_csv('./펀드위험지수_4분기/코스닥_연결_4분기.csv',encoding='euc-kr')\n",
    "df_6 = pd.read_csv('./펀드위험지수_4분기/코스닥_연결_4분기_금융원가.csv',encoding='euc-kr')\n",
    "# \"회사명\", \"거래소코드\", \"회계년도\" 컬럼을 기준으로 두 데이터프레임 결합\n",
    "kosdaq_4_y = df_5.merge(df_6, on=['회사명', '거래소코드', '회계년도'], suffixes=('df_5', 'df_6'))\n",
    "kosdaq_4_y.columns"
   ]
  },
  {
   "cell_type": "code",
   "execution_count": null,
   "metadata": {},
   "outputs": [],
   "source": [
    "kosdaq_4_y.isnull().sum()"
   ]
  },
  {
   "cell_type": "code",
   "execution_count": null,
   "metadata": {},
   "outputs": [],
   "source": [
    "df_7 = pd.read_csv('./펀드위험지수_4분기/코스닥_개별_4분기.csv',encoding='euc-kr')\n",
    "df_8 = pd.read_csv('./펀드위험지수_4분기/코스닥_개별_4분기_금융원가.csv',encoding='euc-kr')\n",
    "# \"회사명\", \"거래소코드\", \"회계년도\" 컬럼을 기준으로 두 데이터프레임 결합\n",
    "kosdaq_4_k = df_7.merge(df_8, on=['회사명', '거래소코드', '회계년도'], suffixes=('df_7', 'df_8'))\n",
    "kosdaq_4_k.columns"
   ]
  },
  {
   "cell_type": "code",
   "execution_count": null,
   "metadata": {},
   "outputs": [],
   "source": [
    "# 컬럼 이름 변경\n",
    "new_columns = ['회사명', '거래소코드', '회계년도', '자산(*)(요약)(IFRS연결)(백만원)',\n",
    "       '유동부채(*)(요약)(IFRS연결)(백만원)', '유동자산(*)(요약)(IFRS연결)(백만원)',\n",
    "       '부채(*)(요약)(IFRS연결)(백만원)', '자본(*)(요약)(IFRS연결)(백만원)',\n",
    "       '재고자산(요약)(IFRS연결)(백만원)', '당기순이익(총포괄손익)(요약)(IFRS연결)(백만원)',\n",
    "       '매출액(수익)(요약)(IFRS연결)(백만원)', '판매비와 관리비(물류원가 등 포함)(요약)(IFRS연결)(백만원)',\n",
    "       '매출원가(요약)(IFRS연결)(백만원)', '매입채무(IFRS연결)(천원)', '금융비용(IFRS연결)(천원)',\n",
    "       '금융비용(IFRS연결)(백만원)', '금융원가(요약)(IFRS연결)(백만원)']\n",
    "kosdaq_4_k.columns = new_columns"
   ]
  },
  {
   "cell_type": "code",
   "execution_count": null,
   "metadata": {},
   "outputs": [],
   "source": [
    "kosdaq_4_y.fillna(kosdaq_4_k, inplace=True)"
   ]
  },
  {
   "cell_type": "code",
   "execution_count": null,
   "metadata": {},
   "outputs": [],
   "source": [
    "kosdaq_4_y = kosdaq_4_y.drop(['금융비용(IFRS연결)(백만원)'],axis=1)\n",
    "kosdaq_4_y = kosdaq_4_y.drop(['금융비용(IFRS연결)(천원)'],axis=1)"
   ]
  },
  {
   "cell_type": "code",
   "execution_count": null,
   "metadata": {},
   "outputs": [],
   "source": [
    "kosdaq_4_y = kosdaq_4_y.dropna()"
   ]
  },
  {
   "cell_type": "code",
   "execution_count": null,
   "metadata": {},
   "outputs": [],
   "source": [
    "kosdaq_4_y.isnull().sum()"
   ]
  },
  {
   "cell_type": "code",
   "execution_count": null,
   "metadata": {},
   "outputs": [],
   "source": [
    "kosdaq_4_y"
   ]
  },
  {
   "cell_type": "code",
   "execution_count": null,
   "metadata": {},
   "outputs": [],
   "source": [
    "kosdaq_4_y['매입채무(IFRS연결)(천원)'] = kosdaq_4_y['매입채무(IFRS연결)(천원)']/1000"
   ]
  },
  {
   "cell_type": "code",
   "execution_count": null,
   "metadata": {},
   "outputs": [],
   "source": [
    "new_columns = ['회사명', '거래소코드', '회계년도', '자산','유동부채', '유동자산','부채', '자본','재고자산', '당기순이익',\n",
    "       '매출액', '판매비와 관리비','매출원가', '매입채무','금융원가']\n",
    "kosdaq_4_y.columns = new_columns"
   ]
  },
  {
   "cell_type": "code",
   "execution_count": null,
   "metadata": {},
   "outputs": [],
   "source": [
    "# kosdaq_4_y.to_csv('코스닥4분기.csv',index=False)"
   ]
  },
  {
   "cell_type": "code",
   "execution_count": null,
   "metadata": {},
   "outputs": [],
   "source": []
  }
 ],
 "metadata": {
  "kernelspec": {
   "display_name": "base",
   "language": "python",
   "name": "python3"
  },
  "language_info": {
   "codemirror_mode": {
    "name": "ipython",
    "version": 3
   },
   "file_extension": ".py",
   "mimetype": "text/x-python",
   "name": "python",
   "nbconvert_exporter": "python",
   "pygments_lexer": "ipython3",
   "version": "3.10.9"
  },
  "orig_nbformat": 4
 },
 "nbformat": 4,
 "nbformat_minor": 2
}
